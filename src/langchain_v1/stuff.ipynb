{
 "cells": [
  {
   "cell_type": "markdown",
   "id": "32610a5b-23ea-4880-8013-001b114b555a",
   "metadata": {},
   "source": [
    "---\n",
    "title: \"Stuff chain\"\n",
    "icon: \"book\"\n",
    "---\n",
    "\n",
    "The **Stuff Documents** chain processes all documents in a **single pass** by **concatenating their content** and inserting it into the **context window** of the language model (LLM). This approach is ideal when:\n",
    "\n",
    "- The combined size of all documents **fits within the model’s context window**.\n",
    "- You want **joint analysis**, such as summarizing or reasoning across the entire content.\n",
    "- You may optionally apply **refinement**, where previous outputs are reprocessed along with new documents.\n",
    "\n",
    "```mermaid\n",
    "graph TD\n",
    "    A[Documents] --> B[Concatenate all]\n",
    "    C[Optional question] --> E[Prompt construction: all stuffed in context window]\n",
    "    D[Optional response format] --> E\n",
    "    B --> E\n",
    "    E --> F[LLM Processes input]\n",
    "    F --> H[\"Extraction / Summary / Answer\"]\n",
    "````"
   ]
  },
  {
   "cell_type": "markdown",
   "id": "ed5cf593-14c8-4073-adaa-c708daf25ab7",
   "metadata": {},
   "source": [
    "# 1. Set up data"
   ]
  },
  {
   "cell_type": "code",
   "execution_count": 1,
   "id": "425ca669-9caa-4bea-a1e7-fab8e95210d8",
   "metadata": {},
   "outputs": [],
   "source": [
    "from langchain.chains import create_stuff_documents_chain\n",
    "from langchain.chat_models import init_chat_model\n",
    "from langchain.documents import Document"
   ]
  },
  {
   "cell_type": "code",
   "execution_count": 2,
   "id": "3488cf7a-1e7b-4d0a-83bc-307f10ce0344",
   "metadata": {},
   "outputs": [],
   "source": [
    "documents = [\n",
    "    Document(\n",
    "        page_content=(\n",
    "            \"Richard Feynman was born on May 11, 1918, in Queens, New York. He showed an early \"\n",
    "            \"interest in science, especially radios and engineering. As a teenager, he repaired \"\n",
    "            \"radios as a hobby and even earned some money doing it.\\n\\n\"\n",
    "            \"He attended the Massachusetts Institute of Technology (MIT) for his undergraduate \"\n",
    "            \"studies and later earned his PhD in physics from Princeton University in 1942. At \"\n",
    "            \"Princeton, he impressed many with his quick mind and problem-solving skills.\\n\\n\"\n",
    "            \"After completing his PhD, he joined the Los Alamos Laboratory as part of the Manhattan Project.\"\n",
    "        ),\n",
    "        metadata={\"source\": \"early_life\"},\n",
    "        id=\"1\"\n",
    "    ),\n",
    "    Document(\n",
    "        page_content=(\n",
    "            \"During World War II, Feynman worked on the Manhattan Project, the top-secret effort \"\n",
    "            \"to build the first atomic bomb. He was based at Los Alamos Laboratory in New Mexico.\\n\\n\"\n",
    "            \"There, he worked under physicist Hans Bethe and was known for his creativity and sense \"\n",
    "            \"of humor. One of his habits was picking locks and cracking safes—not to steal secrets, \"\n",
    "            \"but to prove how insecure they were.\\n\\n\"\n",
    "            \"Feynman’s contributions helped the U.S. develop nuclear weapons, which were used in \"\n",
    "            \"1945 to end the war.\"\n",
    "        ),\n",
    "        metadata={\"source\": \"manhattan_project\"},\n",
    "        id=\"2\"\n",
    "    ),\n",
    "    Document(\n",
    "        page_content=(\n",
    "            \"After the war, Feynman became a professor at Cornell University and later at the \"\n",
    "            \"California Institute of Technology (Caltech). In 1965, he won the Nobel Prize in \"\n",
    "            \"Physics for his work on quantum electrodynamics, shared with Julian Schwinger and \"\n",
    "            \"Sin-Itiro Tomonaga.\\n\\n\"\n",
    "            \"He became famous for his lectures, especially the Feynman Lectures on Physics, which \"\n",
    "            \"are still used today. In 1986, he served on the Rogers Commission that investigated \"\n",
    "            \"the Space Shuttle Challenger disaster.\\n\\n\"\n",
    "            \"Feynman died on February 15, 1988, in Los Angeles, California, after a long battle \"\n",
    "            \"with cancer.\"\n",
    "        ),\n",
    "        metadata={\"source\": \"later_career\"},\n",
    "        id=\"3\"\n",
    "    ),\n",
    "]\n"
   ]
  },
  {
   "cell_type": "markdown",
   "id": "e1a42b30-c290-419a-a0d7-60a1517eb0d0",
   "metadata": {},
   "source": [
    "## Configure for summarization"
   ]
  },
  {
   "cell_type": "code",
   "execution_count": 3,
   "id": "a0581ab0-634a-447e-b8cb-bfe1ef1dde67",
   "metadata": {},
   "outputs": [
    {
     "name": "stdout",
     "output_type": "stream",
     "text": [
      "Here are 3 key sentences summarizing Richard Feynman's life:\n",
      "\n",
      "1. Richard Feynman was a brilliant physicist born in 1918 in Queens, New York, who showed early aptitude for science and engineering, eventually earning his PhD from Princeton University in 1942.\n",
      "\n",
      "2. During World War II, he worked on the Manhattan Project at Los Alamos Laboratory, contributing to the development of the atomic bomb while becoming known for his creativity, humor, and habit of picking locks to expose security flaws.\n",
      "\n",
      "3. After the war, he became a renowned professor at Cornell and Caltech, won the 1965 Nobel Prize in Physics for his work on quantum electrodynamics, created the famous Feynman Lectures on Physics, and served on the commission investigating the Challenger disaster before his death in 1988.\n"
     ]
    }
   ],
   "source": [
    "model = init_chat_model(\"claude-opus-4-20250514\", max_tokens=32_000)\n",
    "\n",
    "summarizer = (\n",
    "    create_stuff_documents_chain(\n",
    "        model, \n",
    "        prompt=\"Summarize the contents into 3 key sentences.\"\n",
    "    )\n",
    "    .compile(name='summarize')\n",
    ")\n",
    "\n",
    "print(summarizer.invoke({\"documents\": documents})['result'])"
   ]
  },
  {
   "cell_type": "markdown",
   "id": "aab1b929-ddb9-4ceb-a74c-1b2bb830ef31",
   "metadata": {},
   "source": [
    "### Structured summarization"
   ]
  },
  {
   "cell_type": "code",
   "execution_count": 4,
   "id": "9c96df90-0a3e-43cc-8606-a394b1cb6381",
   "metadata": {},
   "outputs": [
    {
     "name": "stdout",
     "output_type": "stream",
     "text": [
      "Title: Richard Feynman: The Life and Legacy of a Nobel Prize-Winning Physicist\n",
      " * Born May 11, 1918 in Queens, New York, showing early interest in science and engineering, repairing radios as a teenager (1)\n",
      " * Educated at MIT for undergraduate studies and earned PhD in physics from Princeton University in 1942 (1)\n",
      " * Worked on the Manhattan Project at Los Alamos Laboratory during WWII under Hans Bethe, contributing to the development of the atomic bomb (1, 2)\n",
      " * Known for his creativity, humor, and unconventional habits like picking locks and cracking safes at Los Alamos (2)\n",
      " * Became professor at Cornell University and later at Caltech after the war (3)\n",
      " * Won the 1965 Nobel Prize in Physics for quantum electrodynamics work, shared with Julian Schwinger and Sin-Itiro Tomonaga (3)\n",
      " * Created the famous Feynman Lectures on Physics, which remain widely used educational resources (3)\n",
      " * Served on the Rogers Commission investigating the Space Shuttle Challenger disaster in 1986 (3)\n",
      " * Died February 15, 1988 in Los Angeles, California after battling cancer (3)\n"
     ]
    }
   ],
   "source": [
    "from pydantic import BaseModel, Field\n",
    "from typing import Optional, List\n",
    "\n",
    "class BulletPoint(BaseModel):\n",
    "    \"\"\"Represents a single key idea with supporting document references.\"\"\"\n",
    "    content: str = Field(description=\"A concise bullet point summarizing a key idea.\")\n",
    "    source_doc_ids: List[str] = Field(default_factory=list, description=\"Document IDs supporting this bullet point.\")\n",
    "\n",
    "class StructuredSummary(BaseModel):\n",
    "    \"\"\"Structured summary including a title and supporting bullet points.\"\"\"\n",
    "    title: str = Field(description=\"A concise title summarizing the main theme.\")\n",
    "    bullet_points: List[BulletPoint] = Field(description=\"List of bullet points with supporting document references.\")\n",
    "\n",
    "model = init_chat_model(\"claude-opus-4-20250514\", max_tokens=32_000)\n",
    "\n",
    "chain = (\n",
    "    create_stuff_documents_chain(\n",
    "        model,\n",
    "        response_format=StructuredSummary,\n",
    "    )\n",
    "    .compile(name='structured_summary_extractor')\n",
    ")\n",
    "\n",
    "structured_summary = chain.invoke({\"documents\": documents})['result']\n",
    "\n",
    "print(f\"Title: {structured_summary.title}\")\n",
    "\n",
    "for bullet_point in structured_summary.bullet_points:\n",
    "    if not bullet_point.source_doc_ids:\n",
    "        continue\n",
    "    sources = ', '.join(bullet_point.source_doc_ids)\n",
    "    print(f\" * {bullet_point.content} ({sources})\")\n"
   ]
  },
  {
   "cell_type": "markdown",
   "id": "781bb94a-d043-4d47-a02b-619e7826fd93",
   "metadata": {},
   "source": [
    "## Configure for extraction"
   ]
  },
  {
   "cell_type": "code",
   "execution_count": 5,
   "id": "273f6c13-04d6-4ddb-b339-044a36e90129",
   "metadata": {},
   "outputs": [
    {
     "name": "stdout",
     "output_type": "stream",
     "text": [
      "Extracted facts that have dates:\n",
      " *  on 1918-05-11: Born in Queens, New York (sources: 1)\n",
      " *  on 1942: PhD from Princeton University (sources: 1)\n",
      " *  on 1965: Won Nobel Prize in Physics (sources: 3)\n",
      " *  on 1986: Served on Rogers Commission (sources: 3)\n",
      " *  on 1988-02-15: Died in Los Angeles, California (sources: 3)\n"
     ]
    }
   ],
   "source": [
    "from pydantic import BaseModel, Field\n",
    "from typing import Optional, List\n",
    "\n",
    "class Fact(BaseModel):\n",
    "    \"\"\"Fact about Richard Feynman.\"\"\"\n",
    "    content: str = Field(description=\"The content of the fact. No more than a few words.\")\n",
    "    iso_8601_date: Optional[str] = Field(default=None, description=\"The date associated with the fact if available. Formatted as YYYY-MM-DD.\")\n",
    "    source_doc_ids: List[str] = Field(default_factory=list, description=\"The document or documents in which the fact appeared.\")\n",
    "\n",
    "class Data(BaseModel):\n",
    "    \"\"\"Facts to extract\"\"\"\n",
    "    facts: List[Fact]\n",
    "\n",
    "model = init_chat_model(\"claude-opus-4-20250514\", max_tokens=32_000)\n",
    "\n",
    "chain = (\n",
    "    create_stuff_documents_chain(\n",
    "        model,\n",
    "        response_format=Data,\n",
    "    )\n",
    "    .compile(name='fact_extractor')\n",
    ")\n",
    "\n",
    "fact_data = chain.invoke({\"documents\": documents})['result']\n",
    "\n",
    "print(\"Extracted facts that have dates:\")\n",
    "for fact in fact_data.facts:\n",
    "    if not fact.source_doc_ids:\n",
    "        continue\n",
    "    if not fact.iso_8601_date:\n",
    "        continue\n",
    "    date_str = f\" on {fact.iso_8601_date}\" if fact.iso_8601_date else \"\"\n",
    "    sources = ', '.join(fact.source_doc_ids)\n",
    "    print(f\" * {date_str}: {fact.content} (sources: {sources})\")\n"
   ]
  },
  {
   "cell_type": "markdown",
   "id": "73aa5880-6851-42e0-96ca-e9d6db994c9e",
   "metadata": {},
   "source": [
    "## Use for Q&A"
   ]
  },
  {
   "cell_type": "code",
   "execution_count": 7,
   "id": "dc9f950d-20bc-495e-b312-961f5a4e9b48",
   "metadata": {},
   "outputs": [
    {
     "name": "stdout",
     "output_type": "stream",
     "text": [
      "Based on the documents, here are the key locations where Richard Feynman spent significant time:\n",
      "\n",
      "1. Queens, New York - His birthplace\n",
      "2. Massachusetts Institute of Technology (MIT) - Undergraduate studies\n",
      "3. Princeton University - PhD studies\n",
      "4. Los Alamos Laboratory, New Mexico - Worked on the Manhattan Project during World War II\n",
      "5. Cornell University - Professor\n",
      "6. California Institute of Technology (Caltech) - Professor\n",
      "7. Los Angeles, California - Where he died in 1988\n"
     ]
    }
   ],
   "source": [
    "from pydantic import BaseModel, Field\n",
    "from typing import Optional, List\n",
    "\n",
    "model = init_chat_model(\"claude-3-5-haiku-latest\", max_tokens=5_000)\n",
    "\n",
    "chain = (\n",
    "    create_stuff_documents_chain(model)\n",
    "    .compile(name='Q&A')\n",
    ")\n",
    "\n",
    "response = chain.invoke({\n",
    "    \"documents\": documents,\n",
    "    # A question can be provided during run time. \n",
    "    \"question\": \"Identify locations where Richard Feynman spent significant time\"\n",
    "})\n",
    "print(response['result'])"
   ]
  },
  {
   "cell_type": "markdown",
   "id": "0efd196d-1503-46e0-b331-6515ac743b26",
   "metadata": {},
   "source": [
    "## Refinment\n",
    "\n",
    "Refinment can be achieved using LangGraph's persistence layer."
   ]
  },
  {
   "cell_type": "code",
   "execution_count": 22,
   "id": "11fb5dda-7bf9-429f-a068-c02964373d32",
   "metadata": {},
   "outputs": [
    {
     "name": "stdout",
     "output_type": "stream",
     "text": [
      " * Became professor at Caltech (sources: 3)\n",
      " * Gave famous Feynman Lectures on Physics (sources: 3)\n",
      " * Served on Rogers Commission investigating Challenger disaster (sources: 3)\n"
     ]
    }
   ],
   "source": [
    "from langgraph.checkpoint.memory import InMemorySaver\n",
    "import uuid\n",
    "\n",
    "model = init_chat_model(\"claude-3-5-haiku-latest\", max_tokens=5_000)\n",
    "\n",
    "checkpointer = InMemorySaver()\n",
    "\n",
    "class Fact(BaseModel):\n",
    "    \"\"\"Fact.\"\"\"\n",
    "    content: str = Field(description=\"The content of the fact. No more than a few words.\")\n",
    "    source_doc_ids: List[str] = Field(default_factory=list, description=\"The document or documents in which the fact appeared.\")\n",
    "\n",
    "class Data(BaseModel):\n",
    "    \"\"\"Facts to extract\"\"\"\n",
    "    facts: List[Fact]\n",
    "\n",
    "chain = (\n",
    "    create_stuff_documents_chain(\n",
    "        model, \n",
    "        prompt=\"Extract any facts about Richard Feynman's time at Caltech.\",\n",
    "        response_format=Data\n",
    "    )\n",
    "    .compile(name='Q&A', checkpointer=checkpointer)\n",
    ")\n",
    "\n",
    "thread_id = uuid.uuid4()\n",
    "\n",
    "response = chain.invoke(\n",
    "    {\n",
    "        \"documents\": documents,\n",
    "    },\n",
    "    {\n",
    "        'configurable': {\n",
    "            'thread_id': thread_id,\n",
    "        }\n",
    "    }\n",
    ")\n",
    "\n",
    "for fact in response['result'].facts:\n",
    "    sources = ', '.join(fact.source_doc_ids)\n",
    "    print(f\" * {fact.content} (sources: {sources})\")"
   ]
  },
  {
   "cell_type": "code",
   "execution_count": 23,
   "id": "48e395bd-8ed6-4fdd-ba4a-52cfaf52ad52",
   "metadata": {},
   "outputs": [
    {
     "name": "stdout",
     "output_type": "stream",
     "text": [
      " * Became professor at Caltech (sources: 3)\n",
      " * Gave famous Feynman Lectures on Physics (sources: 3)\n",
      " * Served on Rogers Commission investigating Challenger disaster (sources: 3)\n",
      " * Loved eating ice cream at Caltech (sources: 4)\n"
     ]
    }
   ],
   "source": [
    "response = chain.invoke(\n",
    "    {\n",
    "        \"documents\": [\n",
    "            Document(id=4, page_content=\"Richard Feynman used to eat a ton of icecream while at Caltech\")\n",
    "        ],\n",
    "    },\n",
    "    {\n",
    "        'configurable': {\n",
    "            'thread_id': thread_id,\n",
    "        }\n",
    "    }\n",
    ")\n",
    "\n",
    "\n",
    "for fact in response['result'].facts:\n",
    "    sources = ', '.join(fact.source_doc_ids)\n",
    "    print(f\" * {fact.content} (sources: {sources})\")"
   ]
  }
 ],
 "metadata": {
  "kernelspec": {
   "display_name": "Python 3 (ipykernel)",
   "language": "python",
   "name": "python3"
  },
  "language_info": {
   "codemirror_mode": {
    "name": "ipython",
    "version": 3
   },
   "file_extension": ".py",
   "mimetype": "text/x-python",
   "name": "python",
   "nbconvert_exporter": "python",
   "pygments_lexer": "ipython3",
   "version": "3.12.8"
  }
 },
 "nbformat": 4,
 "nbformat_minor": 5
}
